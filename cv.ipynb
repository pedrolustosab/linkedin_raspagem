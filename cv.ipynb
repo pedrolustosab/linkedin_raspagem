{
 "cells": [
  {
   "cell_type": "code",
   "execution_count": 1,
   "metadata": {},
   "outputs": [],
   "source": [
    "import os\n",
    "from dotenv import load_dotenv\n",
    "from linkedin_api import Linkedin"
   ]
  },
  {
   "cell_type": "code",
   "execution_count": 2,
   "metadata": {},
   "outputs": [],
   "source": [
    "# Load environment variables from .env file\n",
    "load_dotenv()\n",
    "\n",
    "# Get Linkedin credentials from environment variables\n",
    "linkedin_username = os.getenv('LINKEDIN_USERNAME')\n",
    "linkedin_password = os.getenv('LINKEDIN_PASSWORD')\n",
    "\n",
    "# Authenticate using the credentials from the .env file\n",
    "api = Linkedin(linkedin_username, linkedin_password)"
   ]
  },
  {
   "cell_type": "code",
   "execution_count": 3,
   "metadata": {},
   "outputs": [],
   "source": [
    "profile = input(\"Profile: \")\n",
    "\n",
    "# GET a profile\n",
    "profile_data = api.get_profile(profile)\n",
    "contact_info = api.get_profile_contact_info(profile)"
   ]
  },
  {
   "cell_type": "code",
   "execution_count": 4,
   "metadata": {},
   "outputs": [],
   "source": [
    "# Helper function to format dates\n",
    "def format_date(date):\n",
    "    return f\"{date.get('month', '')}/{date.get('year', '')}\""
   ]
  },
  {
   "cell_type": "code",
   "execution_count": 5,
   "metadata": {},
   "outputs": [],
   "source": [
    "# Create a resume\n",
    "def create_resume(profile_data, contact_info):\n",
    "    # Personal Details\n",
    "    full_name = f\"{profile_data.get('firstName')} {profile_data.get('lastName')}\"\n",
    "    headline = profile_data.get('headline', '')\n",
    "    location = profile_data.get('locationName', 'Unknown')\n",
    "    summary = profile_data.get('summary', 'No summary available')\n",
    "\n",
    "    # Contact Information\n",
    "    email = contact_info.get('email_address', 'Not provided')\n",
    "    github = next((site.get('url') for site in contact_info.get('websites', []) if site['label'] == 'PORTFOLIO'), 'Not provided')\n",
    "    portfolio = contact_info.get('websites', [])\n",
    "    \n",
    "    # Experience\n",
    "    experience_entries = profile_data.get('experience', [])\n",
    "    experience_str = \"\"\n",
    "    for exp in experience_entries:\n",
    "        company = exp.get('companyName', 'N/A')\n",
    "        title = exp.get('title', 'N/A')\n",
    "        location = exp.get('locationName', 'N/A')\n",
    "        start_date = format_date(exp.get('timePeriod', {}).get('startDate', {}))\n",
    "        end_date = format_date(exp.get('timePeriod', {}).get('endDate', {})) or 'Present'\n",
    "        description = exp.get('description', 'No description available')\n",
    "        experience_str += f\"{title} at {company} ({start_date} - {end_date})\\n\"\n",
    "        experience_str += f\"Location: {location}\\n\"\n",
    "        experience_str += f\"Description: {description}\\n\\n\"\n",
    "\n",
    "    # Education\n",
    "    education_entries = profile_data.get('education', [])\n",
    "    education_str = \"\"\n",
    "    for edu in education_entries:\n",
    "        school = edu.get('schoolName', 'Unknown School')\n",
    "        field_of_study = edu.get('fieldOfStudy', 'N/A')\n",
    "        degree = edu.get('degreeName', '')\n",
    "        start_date = format_date(edu.get('timePeriod', {}).get('startDate', {}))\n",
    "        end_date = format_date(edu.get('timePeriod', {}).get('endDate', {}))\n",
    "        education_str += f\"{school} - {degree} ({start_date} - {end_date})\\n\"\n",
    "        education_str += f\"Field of Study: {field_of_study}\\n\\n\"\n",
    "\n",
    "    # Skills\n",
    "    skills = profile_data.get('skills', [])\n",
    "    skills_str = \", \".join([skill.get('name') for skill in skills])\n",
    "\n",
    "    # Certifications\n",
    "    certifications = profile_data.get('certifications', [])\n",
    "    cert_str = \"\"\n",
    "    for cert in certifications:\n",
    "        cert_name = cert.get('name', 'Unknown Certification')\n",
    "        authority = cert.get('authority', 'Unknown Authority')\n",
    "        start_date = format_date(cert.get('timePeriod', {}).get('startDate', {}))\n",
    "        cert_str += f\"{cert_name} by {authority} ({start_date})\\n\"\n",
    "\n",
    "    # Languages\n",
    "    languages = profile_data.get('languages', [])\n",
    "    languages_str = \", \".join([f\"{lang.get('name')} ({lang.get('proficiency')})\" for lang in languages])\n",
    "\n",
    "    # Format resume\n",
    "    resume = f\"\"\"\n",
    "    {full_name}\n",
    "    {headline}\n",
    "    {location}\n",
    "\n",
    "    Contact Information:\n",
    "    Email: {email}\n",
    "    GitHub: {github}\n",
    "    Portfolio: {portfolio}\n",
    "\n",
    "    Summary:\n",
    "    {summary}\n",
    "\n",
    "    Experience:\n",
    "    {experience_str}\n",
    "\n",
    "    Education:\n",
    "    {education_str}\n",
    "\n",
    "    Skills:\n",
    "    {skills_str}\n",
    "\n",
    "    Certifications:\n",
    "    {cert_str}\n",
    "\n",
    "    Languages:\n",
    "    {languages_str}\n",
    "    \"\"\"\n",
    "    \n",
    "    return resume\n",
    "\n"
   ]
  },
  {
   "cell_type": "code",
   "execution_count": 8,
   "metadata": {},
   "outputs": [],
   "source": [
    "def save_resume_to_file(profile_data, contact_info):\n",
    "    # Get full name and create filename without spaces and lowercase\n",
    "    full_name = f\"{profile_data.get('firstName', '')} {profile_data.get('lastName', '')}\"\n",
    "    filename = full_name.replace(\" \", \"\").lower() + '_resume.txt'  # Remove spaces and make lowercase\n",
    "\n",
    "    # Create the resume\n",
    "    resume = create_resume(profile_data, contact_info)\n",
    "\n",
    "    # Save to file\n",
    "    with open(filename, 'w', encoding='utf-8') as file:\n",
    "        file.write(resume)\n",
    "    \n",
    "    print(f\"Resume saved to {filename}\")\n",
    "\n"
   ]
  },
  {
   "cell_type": "code",
   "execution_count": 9,
   "metadata": {},
   "outputs": [
    {
     "name": "stdout",
     "output_type": "stream",
     "text": [
      "Resume saved to pedrolustosa_resume.txt\n"
     ]
    }
   ],
   "source": [
    "# Create and save the resume\n",
    "save_resume_to_file(profile_data, contact_info)"
   ]
  }
 ],
 "metadata": {
  "kernelspec": {
   "display_name": "Python 3",
   "language": "python",
   "name": "python3"
  },
  "language_info": {
   "codemirror_mode": {
    "name": "ipython",
    "version": 3
   },
   "file_extension": ".py",
   "mimetype": "text/x-python",
   "name": "python",
   "nbconvert_exporter": "python",
   "pygments_lexer": "ipython3",
   "version": "3.11.6"
  }
 },
 "nbformat": 4,
 "nbformat_minor": 2
}
